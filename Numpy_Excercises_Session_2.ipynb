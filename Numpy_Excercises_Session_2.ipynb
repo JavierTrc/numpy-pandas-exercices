{
  "nbformat": 4,
  "nbformat_minor": 0,
  "metadata": {
    "colab": {
      "name": "Numpy_Excercises_Session_2.ipynb",
      "provenance": [],
      "toc_visible": true,
      "include_colab_link": true
    },
    "kernelspec": {
      "name": "python3",
      "display_name": "Python 3"
    }
  },
  "cells": [
    {
      "cell_type": "markdown",
      "metadata": {
        "id": "view-in-github",
        "colab_type": "text"
      },
      "source": [
        "<a href=\"https://colab.research.google.com/github/JavierTrc/numpy-pandas-exercices/blob/master/Numpy_Excercises_Session_2.ipynb\" target=\"_parent\"><img src=\"https://colab.research.google.com/assets/colab-badge.svg\" alt=\"Open In Colab\"/></a>"
      ]
    },
    {
      "cell_type": "code",
      "metadata": {
        "id": "yZec5gdQULml",
        "colab_type": "code",
        "colab": {}
      },
      "source": [
        "import numpy as np"
      ],
      "execution_count": 6,
      "outputs": []
    },
    {
      "cell_type": "markdown",
      "metadata": {
        "id": "ocOTIuRvURnK",
        "colab_type": "text"
      },
      "source": [
        "# Numpy Excercises - Session 2"
      ]
    },
    {
      "cell_type": "markdown",
      "metadata": {
        "id": "zgZNJN1vre4L",
        "colab_type": "text"
      },
      "source": [
        "### Exercise 1\n",
        "\n",
        "Reshape `array1` to 7x3 dimensions."
      ]
    },
    {
      "cell_type": "code",
      "metadata": {
        "id": "GcnNr53nri09",
        "colab_type": "code",
        "colab": {
          "base_uri": "https://localhost:8080/",
          "height": 134
        },
        "outputId": "42c0ae7f-3939-4144-c40f-8ca3f92b929e"
      },
      "source": [
        "array1 = np.arange(0, 21)\n",
        "array1 = array1.reshape((7,3))\n",
        "array1"
      ],
      "execution_count": 3,
      "outputs": [
        {
          "output_type": "execute_result",
          "data": {
            "text/plain": [
              "array([[ 0,  1,  2],\n",
              "       [ 3,  4,  5],\n",
              "       [ 6,  7,  8],\n",
              "       [ 9, 10, 11],\n",
              "       [12, 13, 14],\n",
              "       [15, 16, 17],\n",
              "       [18, 19, 20]])"
            ]
          },
          "metadata": {
            "tags": []
          },
          "execution_count": 3
        }
      ]
    },
    {
      "cell_type": "markdown",
      "metadata": {
        "id": "LBXx2nR5uOdm",
        "colab_type": "text"
      },
      "source": [
        "### Exercise 2\n",
        "\n",
        "Reshape `array2` into a 3D array of 3x3x3 dimensions."
      ]
    },
    {
      "cell_type": "code",
      "metadata": {
        "id": "-ODB-hFEucck",
        "colab_type": "code",
        "colab": {
          "base_uri": "https://localhost:8080/",
          "height": 202
        },
        "outputId": "b6237532-523d-4620-8587-5ac9c7780129"
      },
      "source": [
        "array2 = np.arange(0, 27).reshape(9, 3)\n",
        "array2 =  array2.reshape((3,3,3))\n",
        "array2"
      ],
      "execution_count": 4,
      "outputs": [
        {
          "output_type": "execute_result",
          "data": {
            "text/plain": [
              "array([[[ 0,  1,  2],\n",
              "        [ 3,  4,  5],\n",
              "        [ 6,  7,  8]],\n",
              "\n",
              "       [[ 9, 10, 11],\n",
              "        [12, 13, 14],\n",
              "        [15, 16, 17]],\n",
              "\n",
              "       [[18, 19, 20],\n",
              "        [21, 22, 23],\n",
              "        [24, 25, 26]]])"
            ]
          },
          "metadata": {
            "tags": []
          },
          "execution_count": 4
        }
      ]
    },
    {
      "cell_type": "markdown",
      "metadata": {
        "id": "zjohGksuysL3",
        "colab_type": "text"
      },
      "source": [
        "### Exercise 3: Reshape vs Resize\n",
        "\n",
        "reshape and resize both do the same thin. So, what's the difference?\n",
        "\n",
        "Follow the instructions and find out.\n"
      ]
    },
    {
      "cell_type": "code",
      "metadata": {
        "id": "RMefunZBypgP",
        "colab_type": "code",
        "colab": {
          "base_uri": "https://localhost:8080/",
          "height": 84
        },
        "outputId": "edb08583-f5c9-43a1-f039-f2d518f90763"
      },
      "source": [
        "# Run this cell without changing the code.\n",
        "array3 = np.arange(0, 9)\n",
        "\n",
        "array3.reshape((3, 3))\n",
        "print(array3)\n",
        "\n",
        "array3.resize((3, 3))\n",
        "print(array3)\n"
      ],
      "execution_count": 5,
      "outputs": [
        {
          "output_type": "stream",
          "text": [
            "[0 1 2 3 4 5 6 7 8]\n",
            "[[0 1 2]\n",
            " [3 4 5]\n",
            " [6 7 8]]\n"
          ],
          "name": "stdout"
        }
      ]
    },
    {
      "cell_type": "code",
      "metadata": {
        "id": "ReT0Y4Xo0M7k",
        "colab_type": "code",
        "colab": {
          "base_uri": "https://localhost:8080/",
          "height": 34
        },
        "outputId": "c1015b12-6a97-4784-ddeb-1bd049da9964"
      },
      "source": [
        "# Question: What is the difference between reshape and resize\n",
        "\n",
        "a = \"resize returns a new copy of the array, while reshape changes the original array\"\n",
        "b = \"reshape returns a new copy of the array, while resize changes the original array\"\n",
        "c = \"both resize and reshape works in the same way with the original array\"\n",
        "b"
      ],
      "execution_count": 6,
      "outputs": [
        {
          "output_type": "execute_result",
          "data": {
            "application/vnd.google.colaboratory.intrinsic+json": {
              "type": "string"
            },
            "text/plain": [
              "'reshape returns a new copy of the array, while resize changes the original array'"
            ]
          },
          "metadata": {
            "tags": []
          },
          "execution_count": 6
        }
      ]
    },
    {
      "cell_type": "markdown",
      "metadata": {
        "id": "BzXy1g-4wYhJ",
        "colab_type": "text"
      },
      "source": [
        "### Exercise 4\n",
        "\n",
        "Concatenate arrays `a`, `b`, and `c`."
      ]
    },
    {
      "cell_type": "code",
      "metadata": {
        "id": "jEziRUU6wniR",
        "colab_type": "code",
        "colab": {
          "base_uri": "https://localhost:8080/",
          "height": 34
        },
        "outputId": "3fe37aa8-210e-4e7e-faaf-d3e2f7cdf2b1"
      },
      "source": [
        "a = np.arange(0, 3)\n",
        "b = np.arange(3, 6)\n",
        "c = np.arange(6, 9)\n",
        "array4 = np.concatenate((a,b,c))\n",
        "array4"
      ],
      "execution_count": 9,
      "outputs": [
        {
          "output_type": "execute_result",
          "data": {
            "text/plain": [
              "array([0, 1, 2, 3, 4, 5, 6, 7, 8])"
            ]
          },
          "metadata": {
            "tags": []
          },
          "execution_count": 9
        }
      ]
    },
    {
      "cell_type": "markdown",
      "metadata": {
        "id": "UZf-j3DekNJ1",
        "colab_type": "text"
      },
      "source": [
        "### Exercise 5\n",
        "\n",
        "Concatenate arrays `m1` and `m2` vertically."
      ]
    },
    {
      "cell_type": "code",
      "metadata": {
        "id": "zWBry5m0i6Rd",
        "colab_type": "code",
        "colab": {
          "base_uri": "https://localhost:8080/",
          "height": 84
        },
        "outputId": "ae3d50c7-2830-44ee-e727-ec84d627775a"
      },
      "source": [
        "m1 = np.array(\n",
        "    [\n",
        "      [1, 2, 3, 4],\n",
        "      [5, 6, 7, 8]\n",
        "    ]\n",
        ")\n",
        "\n",
        "m2 = np.array(\n",
        "    [\n",
        "      [9, 10, 11, 12],\n",
        "      [13, 14, 15, 16]\n",
        "    ]\n",
        ")\n",
        "\n",
        "array5 = np.vstack((m1,m2))\n",
        "array5"
      ],
      "execution_count": 10,
      "outputs": [
        {
          "output_type": "execute_result",
          "data": {
            "text/plain": [
              "array([[ 1,  2,  3,  4],\n",
              "       [ 5,  6,  7,  8],\n",
              "       [ 9, 10, 11, 12],\n",
              "       [13, 14, 15, 16]])"
            ]
          },
          "metadata": {
            "tags": []
          },
          "execution_count": 10
        }
      ]
    },
    {
      "cell_type": "markdown",
      "metadata": {
        "colab_type": "text",
        "id": "4qQ06IZ1k-TG"
      },
      "source": [
        "### Exercise 6\n",
        "\n",
        "Concatenate arrays `m1` and `m2` horizontally."
      ]
    },
    {
      "cell_type": "code",
      "metadata": {
        "colab_type": "code",
        "id": "jsy33sJ7lFN4",
        "colab": {
          "base_uri": "https://localhost:8080/",
          "height": 50
        },
        "outputId": "b98780a1-773d-413e-ae20-c5766eb21cdb"
      },
      "source": [
        "m1 = np.array(\n",
        "    [\n",
        "      [1, 2, 3, 4],\n",
        "      [5, 6, 7, 8]\n",
        "    ]\n",
        ")\n",
        "\n",
        "m2 = np.array(\n",
        "    [\n",
        "      [9, 10, 11, 12],\n",
        "      [13, 14, 15, 16]\n",
        "    ]\n",
        ")\n",
        "\n",
        "array6 = np.hstack((m1,m2))\n",
        "array6"
      ],
      "execution_count": 12,
      "outputs": [
        {
          "output_type": "execute_result",
          "data": {
            "text/plain": [
              "array([[ 1,  2,  3,  4,  9, 10, 11, 12],\n",
              "       [ 5,  6,  7,  8, 13, 14, 15, 16]])"
            ]
          },
          "metadata": {
            "tags": []
          },
          "execution_count": 12
        }
      ]
    },
    {
      "cell_type": "markdown",
      "metadata": {
        "id": "EZzFNnxx26iu",
        "colab_type": "text"
      },
      "source": [
        "### Exercise 7\n",
        "\n",
        "Get all the cells with value equals to `0` as a list of tuples.\n"
      ]
    },
    {
      "cell_type": "code",
      "metadata": {
        "id": "-_pITT1w3Mys",
        "colab_type": "code",
        "colab": {
          "base_uri": "https://localhost:8080/",
          "height": 34
        },
        "outputId": "4cb61d04-dbbf-4da4-9ee0-0fcc43054fa3"
      },
      "source": [
        "matrix = np.array([\n",
        "    [1, 4, 7, 5, 0],\n",
        "    [0, 2, 9, 0, 1],\n",
        "    [3, 6, 0, 5, 3],\n",
        "    [7, 3, 0, 1, 0],\n",
        "    [3, 6, 1, 0, 4]\n",
        "])\n",
        "\n",
        "array7 = np.where(a == 0)\n",
        "array7[0][0]"
      ],
      "execution_count": 18,
      "outputs": [
        {
          "output_type": "execute_result",
          "data": {
            "text/plain": [
              "0"
            ]
          },
          "metadata": {
            "tags": []
          },
          "execution_count": 18
        }
      ]
    },
    {
      "cell_type": "markdown",
      "metadata": {
        "id": "j15fagt-_9Sv",
        "colab_type": "text"
      },
      "source": [
        "### Exercise 8\n",
        "\n",
        "Check the documentation for `np.diag` and `np.fliplr`. Use them to extract the diagonals arrays for `matrix`.\n",
        "\n"
      ]
    },
    {
      "cell_type": "code",
      "metadata": {
        "id": "0C4VA6H6B0Qn",
        "colab_type": "code",
        "colab": {
          "base_uri": "https://localhost:8080/",
          "height": 34
        },
        "outputId": "8ded0f3b-d229-4d22-b312-daa0d0d3d543"
      },
      "source": [
        "diag1 = np.diag(matrix)\n",
        "diag2 = np.diag(np.fliplr(matrix))\n",
        "diag1\n",
        "# diag2"
      ],
      "execution_count": 20,
      "outputs": [
        {
          "output_type": "execute_result",
          "data": {
            "text/plain": [
              "array([1, 2, 0, 1, 4])"
            ]
          },
          "metadata": {
            "tags": []
          },
          "execution_count": 20
        }
      ]
    },
    {
      "cell_type": "markdown",
      "metadata": {
        "id": "-4_ujD9rCCKg",
        "colab_type": "text"
      },
      "source": [
        "### Exercise 9\n",
        "\n",
        "Get the values of the 3th column in `matrix` and the values for the 2th row in `matrix`. Both as numpy arrays.\n"
      ]
    },
    {
      "cell_type": "code",
      "metadata": {
        "id": "75SKt_ydCfCr",
        "colab_type": "code",
        "colab": {
          "base_uri": "https://localhost:8080/",
          "height": 50
        },
        "outputId": "05871e2c-67b7-4c5e-b661-2ab2be1c6f4a"
      },
      "source": [
        "\n",
        "column = matrix[:, 3 - 1]\n",
        "row = matrix[2 -1, :]\n",
        "print(column)\n",
        "print(row)"
      ],
      "execution_count": 21,
      "outputs": [
        {
          "output_type": "stream",
          "text": [
            "[7 9 0 0 1]\n",
            "[0 2 9 0 1]\n"
          ],
          "name": "stdout"
        }
      ]
    },
    {
      "cell_type": "markdown",
      "metadata": {
        "id": "FAYxMRG4jJUt",
        "colab_type": "text"
      },
      "source": [
        "## Exercise 10\n",
        "\n",
        "Create a new matrix ***x*** from ***a*** and ***m*** with the folowing structure:\n",
        "\n",
        "\n",
        "\n",
        "```\n",
        "array([[4, 4, 5, 4, 4],\n",
        "       [4, 4, 5, 4, 4],\n",
        "       [4, 4, 5, 4, 4]])\n",
        "```\n",
        "\n"
      ]
    },
    {
      "cell_type": "code",
      "metadata": {
        "id": "n_pobdHRjIVl",
        "colab_type": "code",
        "colab": {
          "base_uri": "https://localhost:8080/",
          "height": 118
        },
        "outputId": "e8ac2488-de5d-4d29-9fe4-d8d61bec9f01"
      },
      "source": [
        "a = np.full((3, 1), 5)\n",
        "m = np.full((3, 4), 4)\n",
        "\n",
        "x = np.hstack((m[:,:2], a, m[:,2:]))\n",
        "# x = np.insert(m, 2, 5, axis=1)\n",
        "x"
      ],
      "execution_count": 28,
      "outputs": [
        {
          "output_type": "stream",
          "text": [
            "[[4 4]\n",
            " [4 4]\n",
            " [4 4]]\n"
          ],
          "name": "stdout"
        },
        {
          "output_type": "execute_result",
          "data": {
            "text/plain": [
              "array([[4, 4, 5, 4, 4],\n",
              "       [4, 4, 5, 4, 4],\n",
              "       [4, 4, 5, 4, 4]])"
            ]
          },
          "metadata": {
            "tags": []
          },
          "execution_count": 28
        }
      ]
    },
    {
      "cell_type": "markdown",
      "metadata": {
        "id": "5FkJzPeGAZMv",
        "colab_type": "text"
      },
      "source": [
        "## Exercise 11\n",
        "\n",
        "Given a:\n",
        "\n",
        "```\n",
        "a = array([[1],\n",
        "       [1],\n",
        "       [2],\n",
        "       [4]])\n",
        "```\n",
        "\n",
        "Create a new array **b** with the following structure:\n",
        "\n",
        "```\n",
        "np.array([\n",
        "  [1, 0, 0],\n",
        "  [1, 0, 0],\n",
        "  [0, 1, 0],\n",
        "  [0, 0, 1],\n",
        "])\n",
        "```\n",
        "Do you detect the pattern? Which operation do you need to create this structure.?\n",
        "\n",
        "\n"
      ]
    },
    {
      "cell_type": "code",
      "metadata": {
        "id": "FqBLf9h6AdRo",
        "colab_type": "code",
        "colab": {}
      },
      "source": [
        "# one hot encode excersise for numpy "
      ],
      "execution_count": null,
      "outputs": []
    },
    {
      "cell_type": "markdown",
      "metadata": {
        "id": "ZRGKiKtAw-NO",
        "colab_type": "text"
      },
      "source": [
        "# Challenge, Tic Tac Toe\n"
      ]
    },
    {
      "cell_type": "code",
      "metadata": {
        "id": "zXFw_11UxFYb",
        "colab_type": "code",
        "colab": {}
      },
      "source": [
        "cell = {\n",
        "    0: ' ',\n",
        "    1: 'X',\n",
        "    2: 'O'\n",
        "}\n",
        "\n",
        "def print_board():\n",
        "  print('-------------')\n",
        "  print(f'| {cell[game[0][0]]} | {cell[game[0][1]]} | {cell[game[0][2]]} |')\n",
        "  print('-------------')\n",
        "  print(f'| {cell[game[1][0]]} | {cell[game[1][1]]} | {cell[game[1][2]]} |')\n",
        "  print('-------------')\n",
        "  print(f'| {cell[game[2][0]]} | {cell[game[2][1]]} | {cell[game[2][2]]} |')\n",
        "  print('-------------')\n",
        "\n",
        "def skynet_move():\n",
        "  # Select a random empty cell in `game` array and set with value `2`.\n",
        "  # If no empty cells available, do nothing.\n",
        "  free_indices = np.where(game == 0)\n",
        "  if free_indices[0].size != 0:\n",
        "    index = np.random.randint(free_indices[0].size)\n",
        "    game[free_indices[0][index]][free_indices[1][index]] = 2\n",
        "  pass\n",
        "\n",
        "def win_move(player, r, c):\n",
        "  # Check if the player's move is a win move.\n",
        "  # A win move meets one of these conditions:\n",
        "  #   - All values at row `r` are equal to `player`.\n",
        "  #   - All values at column `c` are equal to `player`.\n",
        "  #   - All values at main diagonal ((0, 0) to (2, 2)) are equal to  `player`.\n",
        "  #   - All values at second diagonal ((2, 0) to (0, 2)) are equal to  `player`.\n",
        "  # Return True if one of the conditions are met, False otherwise.\n",
        "  if np.all(game[r] == player):\n",
        "    return True\n",
        "  elif np.all(game[c] == player):\n",
        "    return True\n",
        "  elif np.all(np.diag(game) == player):\n",
        "    return True\n",
        "  elif np.all(np.diag(np.fliplr(game)) == player):\n",
        "    return True\n",
        "  else:\n",
        "    return False\n",
        "\n",
        "\n",
        "def human_move(r, c):\n",
        "  # Set value `1` at game[r][c] if the cell if empty and return True.\n",
        "  # If cell is not empty print \"Cell is not empty\" and return False.\n",
        "  if game[r][c] == 0:\n",
        "    game[r][c] = 1\n",
        "    return True\n",
        "  else:\n",
        "    print('Cell is not empty')\n",
        "    return False\n",
        "\n",
        "def winner_exists():\n",
        "  # If one of the players has already won the game, return True.\n",
        "  # Return False otherwise.\n",
        "  if win_move(1,0,0) or win_move(2,0,0):\n",
        "    return True\n",
        "  elif  win_move(1,1,1) or win_move(2,1,1):\n",
        "    return True\n",
        "  elif  win_move(1,2,2) or win_move(2,2,2):\n",
        "    return True\n",
        "  else:\n",
        "    return False \n",
        "\n",
        "def is_game_on():\n",
        "  # This method checks the current status of the game.\n",
        "  # A game is on if meets one of two conditios:\n",
        "  #  - There is still available cells.\n",
        "  #  - There is still no winners.\n",
        "  if np.where(game == 0)[0].size == 0:\n",
        "    return False\n",
        "  else:\n",
        "    return not winner_exists()  "
      ],
      "execution_count": 49,
      "outputs": []
    },
    {
      "cell_type": "code",
      "metadata": {
        "id": "wmWZQJFA2Hl5",
        "colab_type": "code",
        "colab": {}
      },
      "source": [
        "# Run this cell to restart the game.\n",
        "\n",
        "# Create a 3x3 array with zero values.\n",
        "game = np.zeros((3,3))"
      ],
      "execution_count": 37,
      "outputs": []
    },
    {
      "cell_type": "code",
      "metadata": {
        "id": "ErKaf7bw2X2Z",
        "colab_type": "code",
        "cellView": "both",
        "colab": {
          "base_uri": "https://localhost:8080/",
          "height": 151
        },
        "outputId": "f422aeac-e918-4890-af3d-0b32dc69844c"
      },
      "source": [
        "#@title Tic tac toe controls\n",
        "#@markdown Select the cell for your next move!.\n",
        "row_value = \"0\" #@param [\"0\", \"1\", \"2\"] \n",
        "column_value = \"0\" #@param [\"0\", \"1\", \"2\"]\n",
        "\n",
        "row = int(row_value)\n",
        "column = int(column_value)\n",
        "if(is_game_on()):\n",
        "  status = human_move(row, column)\n",
        "  if(win_move(1, row, column)):\n",
        "    print('Human wins')\n",
        "  elif(status):\n",
        "    skynet_move()\n",
        "    if(win_move(2, row, column)):\n",
        "      print('Skynet wins')\n",
        "else:\n",
        "  print('Game over.')\n",
        "  \n",
        "print_board()"
      ],
      "execution_count": 50,
      "outputs": [
        {
          "output_type": "stream",
          "text": [
            "Game over.\n",
            "-------------\n",
            "| X | O | X |\n",
            "-------------\n",
            "| X | O | O |\n",
            "-------------\n",
            "| O | X | X |\n",
            "-------------\n"
          ],
          "name": "stdout"
        }
      ]
    },
    {
      "cell_type": "markdown",
      "metadata": {
        "id": "2Gl4XHf6JN24",
        "colab_type": "text"
      },
      "source": [
        "# Challenge: Basic data analysis\n",
        "\n",
        "The following numpy array is taken from the a census dataset. Every column in this matrix contains some demografic information. For this exercise You will focus in the following columns:\n",
        "\n",
        "*   Column[0]: Age\n",
        "*   Column[1]: workclass\n",
        "*   Column[3]: education\n",
        "*   Column[5]: marital-status\n",
        "*   Column[9]: sex\n",
        "*   Column[10]: capital-gain\n",
        "\n",
        "Please find the following information:\n",
        "\n",
        "\n",
        "*   Age average\n",
        "*   Types of workclass, education and marital-status\n",
        "*   How many records are for male\n",
        "*   How many records are for female\n",
        "*   How many females are above age of 30\n",
        "*   Avergage of capital-gain for males\n",
        "*   Avergage of capital-gain for females\n",
        "\n",
        "\n",
        "\n",
        "\n",
        "\n"
      ]
    },
    {
      "cell_type": "code",
      "metadata": {
        "id": "6deAST4wJiHf",
        "colab_type": "code",
        "colab": {
          "base_uri": "https://localhost:8080/",
          "height": 521
        },
        "outputId": "f875152c-f6a6-419f-8bb8-d0e2e14c2e0e"
      },
      "source": [
        "# First upload file \"census.npy\" befor running this cell.\n",
        "with open('census.npy', 'rb') as f:\n",
        "  census_data = np.load(f, allow_pickle=True)\n",
        "census_data[:10,:]"
      ],
      "execution_count": 63,
      "outputs": [
        {
          "output_type": "execute_result",
          "data": {
            "text/plain": [
              "array([[50, ' Self-emp-not-inc', 83311, ' Bachelors', 13,\n",
              "        ' Married-civ-spouse', ' Exec-managerial', ' Husband', ' White',\n",
              "        ' Male', 0, 0, 13, ' United-States', ' <=50K'],\n",
              "       [38, ' Private', 215646, ' HS-grad', 9, ' Divorced',\n",
              "        ' Handlers-cleaners', ' Not-in-family', ' White', ' Male', 0, 0,\n",
              "        40, ' United-States', ' <=50K'],\n",
              "       [53, ' Private', 234721, ' 11th', 7, ' Married-civ-spouse',\n",
              "        ' Handlers-cleaners', ' Husband', ' Black', ' Male', 0, 0, 40,\n",
              "        ' United-States', ' <=50K'],\n",
              "       [28, ' Private', 338409, ' Bachelors', 13, ' Married-civ-spouse',\n",
              "        ' Prof-specialty', ' Wife', ' Black', ' Female', 0, 0, 40,\n",
              "        ' Cuba', ' <=50K'],\n",
              "       [37, ' Private', 284582, ' Masters', 14, ' Married-civ-spouse',\n",
              "        ' Exec-managerial', ' Wife', ' White', ' Female', 0, 0, 40,\n",
              "        ' United-States', ' <=50K'],\n",
              "       [49, ' Private', 160187, ' 9th', 5, ' Married-spouse-absent',\n",
              "        ' Other-service', ' Not-in-family', ' Black', ' Female', 0, 0,\n",
              "        16, ' Jamaica', ' <=50K'],\n",
              "       [52, ' Self-emp-not-inc', 209642, ' HS-grad', 9,\n",
              "        ' Married-civ-spouse', ' Exec-managerial', ' Husband', ' White',\n",
              "        ' Male', 0, 0, 45, ' United-States', ' >50K'],\n",
              "       [31, ' Private', 45781, ' Masters', 14, ' Never-married',\n",
              "        ' Prof-specialty', ' Not-in-family', ' White', ' Female', 14084,\n",
              "        0, 50, ' United-States', ' >50K'],\n",
              "       [42, ' Private', 159449, ' Bachelors', 13, ' Married-civ-spouse',\n",
              "        ' Exec-managerial', ' Husband', ' White', ' Male', 5178, 0, 40,\n",
              "        ' United-States', ' >50K'],\n",
              "       [37, ' Private', 280464, ' Some-college', 10,\n",
              "        ' Married-civ-spouse', ' Exec-managerial', ' Husband', ' Black',\n",
              "        ' Male', 0, 0, 80, ' United-States', ' >50K']], dtype=object)"
            ]
          },
          "metadata": {
            "tags": []
          },
          "execution_count": 63
        }
      ]
    },
    {
      "cell_type": "code",
      "metadata": {
        "id": "tZLZizAqU31O",
        "colab_type": "code",
        "colab": {
          "base_uri": "https://localhost:8080/",
          "height": 168
        },
        "outputId": "3e1d9928-e5a5-4985-8951-d9f3d3408ed5"
      },
      "source": [
        "# Average age\n",
        "average = np.average(census_data[:,0].astype(np.int))\n",
        "print(average)\n",
        "\n",
        "# Types of workclass, education, marital-status\n",
        "workclasses = np.unique(census_data[:,1].astype(np.str))\n",
        "print(workclasses)\n",
        "\n",
        "educations = np.unique(census_data[:,3].astype(np.str))\n",
        "print(educations)\n",
        "\n",
        "marital_statuses = np.unique(census_data[:,5].astype(np.str))\n",
        "print(marital_statuses)\n",
        "\n",
        "np.unique(census_data[:,9].astype(np.str))"
      ],
      "execution_count": 96,
      "outputs": [
        {
          "output_type": "stream",
          "text": [
            "38.581633906633904\n",
            "[' ?' ' Federal-gov' ' Local-gov' ' Never-worked' ' Private'\n",
            " ' Self-emp-inc' ' Self-emp-not-inc' ' State-gov' ' Without-pay']\n",
            "[' 10th' ' 11th' ' 12th' ' 1st-4th' ' 5th-6th' ' 7th-8th' ' 9th'\n",
            " ' Assoc-acdm' ' Assoc-voc' ' Bachelors' ' Doctorate' ' HS-grad'\n",
            " ' Masters' ' Preschool' ' Prof-school' ' Some-college']\n",
            "[' Divorced' ' Married-AF-spouse' ' Married-civ-spouse'\n",
            " ' Married-spouse-absent' ' Never-married' ' Separated' ' Widowed']\n"
          ],
          "name": "stdout"
        },
        {
          "output_type": "execute_result",
          "data": {
            "text/plain": [
              "array([' Female', ' Male'], dtype='<U7')"
            ]
          },
          "metadata": {
            "tags": []
          },
          "execution_count": 96
        }
      ]
    },
    {
      "cell_type": "code",
      "metadata": {
        "id": "penTklRSfcyu",
        "colab_type": "code",
        "colab": {
          "base_uri": "https://localhost:8080/",
          "height": 34
        },
        "outputId": "b4a44c73-6abe-4965-db80-9d67d7571e78"
      },
      "source": [
        "# Female Records\n",
        "mask = census_data[:,9] == ' Female'\n",
        "\n",
        "females = census_data[mask]\n",
        "print(females.shape)"
      ],
      "execution_count": 97,
      "outputs": [
        {
          "output_type": "stream",
          "text": [
            "(10771, 15)\n"
          ],
          "name": "stdout"
        }
      ]
    },
    {
      "cell_type": "code",
      "metadata": {
        "id": "y6LZ8zrZha4e",
        "colab_type": "code",
        "colab": {
          "base_uri": "https://localhost:8080/",
          "height": 50
        },
        "outputId": "63e16601-e1c6-457b-907b-0ab8a43564e2"
      },
      "source": [
        "# Male Records\n",
        "mask = census_data[:,9] == ' Male'\n",
        "\n",
        "males = census_data[mask]\n",
        "print(males.shape)\n",
        "\n",
        "print(females.shape[0] + males.shape[0])"
      ],
      "execution_count": 98,
      "outputs": [
        {
          "output_type": "stream",
          "text": [
            "(21789, 15)\n",
            "32560\n"
          ],
          "name": "stdout"
        }
      ]
    },
    {
      "cell_type": "code",
      "metadata": {
        "id": "evPW3TMwkn-r",
        "colab_type": "code",
        "colab": {
          "base_uri": "https://localhost:8080/",
          "height": 34
        },
        "outputId": "3101321a-7ab3-4923-fda6-2a4f328a13b0"
      },
      "source": [
        "females_over_30 = females[females[:,0] > 30]\n",
        "print(females_over_30.shape)"
      ],
      "execution_count": 105,
      "outputs": [
        {
          "output_type": "stream",
          "text": [
            "(6512, 15)\n"
          ],
          "name": "stdout"
        }
      ]
    },
    {
      "cell_type": "code",
      "metadata": {
        "id": "7UUdIzNNlWvI",
        "colab_type": "code",
        "colab": {
          "base_uri": "https://localhost:8080/",
          "height": 34
        },
        "outputId": "5e7a534c-f874-4af6-e4c9-1db4da3c760f"
      },
      "source": [
        "np.average(males[:,10].astype(np.int))"
      ],
      "execution_count": 109,
      "outputs": [
        {
          "output_type": "execute_result",
          "data": {
            "text/plain": [
              "1329.3313139657625"
            ]
          },
          "metadata": {
            "tags": []
          },
          "execution_count": 109
        }
      ]
    },
    {
      "cell_type": "code",
      "metadata": {
        "id": "fDsDqeJLlwNj",
        "colab_type": "code",
        "colab": {
          "base_uri": "https://localhost:8080/",
          "height": 34
        },
        "outputId": "867b3c84-298c-4e38-8437-55f82b9feb0e"
      },
      "source": [
        "np.average(females[:,10].astype(np.int))"
      ],
      "execution_count": 110,
      "outputs": [
        {
          "output_type": "execute_result",
          "data": {
            "text/plain": [
              "568.4105468387336"
            ]
          },
          "metadata": {
            "tags": []
          },
          "execution_count": 110
        }
      ]
    }
  ]
}